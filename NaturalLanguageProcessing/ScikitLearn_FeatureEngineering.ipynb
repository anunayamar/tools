{
 "cells": [
  {
   "cell_type": "markdown",
   "metadata": {},
   "source": [
    "---\n",
    "\n",
    "_You are currently looking at **version 1.1** of this notebook. To download notebooks and datafiles, as well as get help on Jupyter notebooks in the Coursera platform, visit the [Jupyter Notebook FAQ](https://www.coursera.org/learn/python-text-mining/resources/d9pwm) course resource._\n",
    "\n",
    "---"
   ]
  },
  {
   "cell_type": "markdown",
   "metadata": {},
   "source": [
    "# Assignment 3\n",
    "\n",
    "In this assignment you will explore text message data and create models to predict if a message is spam or not. "
   ]
  },
  {
   "cell_type": "code",
   "execution_count": 7,
   "metadata": {},
   "outputs": [
    {
     "data": {
      "text/html": [
       "<div>\n",
       "<style>\n",
       "    .dataframe thead tr:only-child th {\n",
       "        text-align: right;\n",
       "    }\n",
       "\n",
       "    .dataframe thead th {\n",
       "        text-align: left;\n",
       "    }\n",
       "\n",
       "    .dataframe tbody tr th {\n",
       "        vertical-align: top;\n",
       "    }\n",
       "</style>\n",
       "<table border=\"1\" class=\"dataframe\">\n",
       "  <thead>\n",
       "    <tr style=\"text-align: right;\">\n",
       "      <th></th>\n",
       "      <th>text</th>\n",
       "      <th>target</th>\n",
       "    </tr>\n",
       "  </thead>\n",
       "  <tbody>\n",
       "    <tr>\n",
       "      <th>0</th>\n",
       "      <td>Go until jurong point, crazy.. Available only ...</td>\n",
       "      <td>0</td>\n",
       "    </tr>\n",
       "    <tr>\n",
       "      <th>1</th>\n",
       "      <td>Ok lar... Joking wif u oni...</td>\n",
       "      <td>0</td>\n",
       "    </tr>\n",
       "    <tr>\n",
       "      <th>2</th>\n",
       "      <td>Free entry in 2 a wkly comp to win FA Cup fina...</td>\n",
       "      <td>1</td>\n",
       "    </tr>\n",
       "    <tr>\n",
       "      <th>3</th>\n",
       "      <td>U dun say so early hor... U c already then say...</td>\n",
       "      <td>0</td>\n",
       "    </tr>\n",
       "    <tr>\n",
       "      <th>4</th>\n",
       "      <td>Nah I don't think he goes to usf, he lives aro...</td>\n",
       "      <td>0</td>\n",
       "    </tr>\n",
       "    <tr>\n",
       "      <th>5</th>\n",
       "      <td>FreeMsg Hey there darling it's been 3 week's n...</td>\n",
       "      <td>1</td>\n",
       "    </tr>\n",
       "    <tr>\n",
       "      <th>6</th>\n",
       "      <td>Even my brother is not like to speak with me. ...</td>\n",
       "      <td>0</td>\n",
       "    </tr>\n",
       "    <tr>\n",
       "      <th>7</th>\n",
       "      <td>As per your request 'Melle Melle (Oru Minnamin...</td>\n",
       "      <td>0</td>\n",
       "    </tr>\n",
       "    <tr>\n",
       "      <th>8</th>\n",
       "      <td>WINNER!! As a valued network customer you have...</td>\n",
       "      <td>1</td>\n",
       "    </tr>\n",
       "    <tr>\n",
       "      <th>9</th>\n",
       "      <td>Had your mobile 11 months or more? U R entitle...</td>\n",
       "      <td>1</td>\n",
       "    </tr>\n",
       "  </tbody>\n",
       "</table>\n",
       "</div>"
      ],
      "text/plain": [
       "                                                text  target\n",
       "0  Go until jurong point, crazy.. Available only ...       0\n",
       "1                      Ok lar... Joking wif u oni...       0\n",
       "2  Free entry in 2 a wkly comp to win FA Cup fina...       1\n",
       "3  U dun say so early hor... U c already then say...       0\n",
       "4  Nah I don't think he goes to usf, he lives aro...       0\n",
       "5  FreeMsg Hey there darling it's been 3 week's n...       1\n",
       "6  Even my brother is not like to speak with me. ...       0\n",
       "7  As per your request 'Melle Melle (Oru Minnamin...       0\n",
       "8  WINNER!! As a valued network customer you have...       1\n",
       "9  Had your mobile 11 months or more? U R entitle...       1"
      ]
     },
     "execution_count": 7,
     "metadata": {},
     "output_type": "execute_result"
    }
   ],
   "source": [
    "import pandas as pd\n",
    "import numpy as np\n",
    "\n",
    "spam_data = pd.read_csv('spam.csv')\n",
    "\n",
    "spam_data['target'] = np.where(spam_data['target']=='spam',1,0)\n",
    "spam_data.head(10)"
   ]
  },
  {
   "cell_type": "code",
   "execution_count": 8,
   "metadata": {
    "collapsed": true
   },
   "outputs": [],
   "source": [
    "from sklearn.model_selection import train_test_split\n",
    "\n",
    "\n",
    "X_train, X_test, y_train, y_test = train_test_split(spam_data['text'], \n",
    "                                                    spam_data['target'], \n",
    "                                                    random_state=0)"
   ]
  },
  {
   "cell_type": "markdown",
   "metadata": {},
   "source": [
    "### Question 1\n",
    "What percentage of the documents in `spam_data` are spam?\n",
    "\n",
    "*This function should return a float, the percent value (i.e. $ratio * 100$).*"
   ]
  },
  {
   "cell_type": "code",
   "execution_count": 9,
   "metadata": {
    "collapsed": true
   },
   "outputs": [],
   "source": [
    "def answer_one():\n",
    "    \n",
    "    spam_list = spam_data['target'].tolist()\n",
    "    result = (sum([1 for spam in spam_list if spam==1])/len(spam_list))*100\n",
    "    return result"
   ]
  },
  {
   "cell_type": "code",
   "execution_count": 10,
   "metadata": {},
   "outputs": [
    {
     "data": {
      "text/plain": [
       "13.406317300789663"
      ]
     },
     "execution_count": 10,
     "metadata": {},
     "output_type": "execute_result"
    }
   ],
   "source": [
    "answer_one()"
   ]
  },
  {
   "cell_type": "markdown",
   "metadata": {},
   "source": [
    "### Question 2\n",
    "\n",
    "Fit the training data `X_train` using a Count Vectorizer with default parameters.\n",
    "\n",
    "What is the longest token in the vocabulary?\n",
    "\n",
    "*This function should return a string.*"
   ]
  },
  {
   "cell_type": "code",
   "execution_count": 11,
   "metadata": {
    "collapsed": true
   },
   "outputs": [],
   "source": [
    "from sklearn.feature_extraction.text import CountVectorizer\n",
    "\n",
    "def answer_two():\n",
    "    count_vec= CountVectorizer()\n",
    "    train_vec = count_vec.fit(X_train)\n",
    "    feature_names = train_vec.get_feature_names()\n",
    "    \n",
    "    max = 0\n",
    "    result = \"\"\n",
    "    for feature_name in feature_names:\n",
    "        if len(feature_name) > max:\n",
    "            max = len(feature_name)\n",
    "            result = feature_name                    \n",
    "    \n",
    "    return result"
   ]
  },
  {
   "cell_type": "code",
   "execution_count": 12,
   "metadata": {},
   "outputs": [
    {
     "data": {
      "text/plain": [
       "'com1win150ppmx3age16subscription'"
      ]
     },
     "execution_count": 12,
     "metadata": {},
     "output_type": "execute_result"
    }
   ],
   "source": [
    "answer_two()"
   ]
  },
  {
   "cell_type": "markdown",
   "metadata": {},
   "source": [
    "### Question 3\n",
    "\n",
    "Fit and transform the training data `X_train` using a Count Vectorizer with default parameters.\n",
    "\n",
    "Next, fit a fit a multinomial Naive Bayes classifier model with smoothing `alpha=0.1`. Find the area under the curve (AUC) score using the transformed test data.\n",
    "\n",
    "*This function should return the AUC score as a float.*"
   ]
  },
  {
   "cell_type": "code",
   "execution_count": 13,
   "metadata": {
    "collapsed": true
   },
   "outputs": [],
   "source": [
    "from sklearn.naive_bayes import MultinomialNB\n",
    "from sklearn.metrics import roc_auc_score\n",
    "\n",
    "def answer_three():\n",
    "    count_vec = CountVectorizer()\n",
    "    x_train_vec = count_vec.fit_transform(X_train)\n",
    "    model = MultinomialNB(alpha=0.1)\n",
    "    model.fit(x_train_vec, y_train)\n",
    "    \n",
    "    predictions = model.predict(count_vec.transform(X_test))\n",
    "    roc_score = roc_auc_score(y_test, predictions)\n",
    "    print('AUC: ', roc_score)    \n",
    "    \n",
    "    return roc_score#Your answer here"
   ]
  },
  {
   "cell_type": "code",
   "execution_count": 14,
   "metadata": {},
   "outputs": [
    {
     "name": "stdout",
     "output_type": "stream",
     "text": [
      "AUC:  0.972081218274\n"
     ]
    },
    {
     "data": {
      "text/plain": [
       "0.97208121827411165"
      ]
     },
     "execution_count": 14,
     "metadata": {},
     "output_type": "execute_result"
    }
   ],
   "source": [
    "answer_three()"
   ]
  },
  {
   "cell_type": "markdown",
   "metadata": {},
   "source": [
    "### Question 4\n",
    "\n",
    "Fit and transform the training data `X_train` using a Tfidf Vectorizer with default parameters.\n",
    "\n",
    "What 20 features have the smallest tf-idf and what 20 have the largest tf-idf?\n",
    "\n",
    "Put these features in a two series where each series is sorted by tf-idf value and then alphabetically by feature name. The index of the series should be the feature name, and the data should be the tf-idf.\n",
    "\n",
    "The series of 20 features with smallest tf-idfs should be sorted smallest tfidf first, the list of 20 features with largest tf-idfs should be sorted largest first. \n",
    "\n",
    "*This function should return a tuple of two series\n",
    "`(smallest tf-idfs series, largest tf-idfs series)`.*"
   ]
  },
  {
   "cell_type": "code",
   "execution_count": 15,
   "metadata": {
    "collapsed": true
   },
   "outputs": [],
   "source": [
    "from sklearn.feature_extraction.text import TfidfVectorizer\n",
    "from pandas import Series\n",
    "\n",
    "def answer_four():\n",
    "    tf_vec = TfidfVectorizer()\n",
    "    x_train_vec = tf_vec.fit_transform(X_train)\n",
    "    \n",
    "    sorted_tf_indicies = (x_train_vec.max(axis=0).toarray())[0].argsort()\n",
    "    sorted_tf = x_train_vec.max(axis=0).toarray()    \n",
    "    #Now sorting\n",
    "    sorted_tf[0].sort()\n",
    "    \n",
    "    print (sorted_tf)\n",
    "    \n",
    "    #Getting feature names\n",
    "    feature_names = np.array(tf_vec.get_feature_names())\n",
    "    print (feature_names.shape)\n",
    "    \n",
    "    #Fetching lowest and highest tfidf\n",
    "    low_tfidf_features_name = feature_names[sorted_tf_indicies[:20]]\n",
    "    high_tfidf_features_name = feature_names[sorted_tf_indicies[-20:]]\n",
    "\n",
    "\n",
    "    low_tfidf_features = sorted_tf[0][:20]\n",
    "    high_tfidf_features = sorted_tf[0][-20:]\n",
    " \n",
    "    #Features with lowest tfidf score    \n",
    "    print (low_tfidf_features_name)\n",
    "    #Features with highest tfidf score    \n",
    "    print (high_tfidf_features_name)    \n",
    "   \n",
    "    low = Series(index=low_tfidf_features_name.tolist(), data=low_tfidf_features)\n",
    "    high = Series(index=high_tfidf_features_name.tolist(), data=high_tfidf_features)\n",
    "\n",
    "    low = low.sort_index().sort_values()\n",
    "    high = high.sort_index().sort_values()\n",
    "    \n",
    "    \n",
    "    return (low,high)"
   ]
  },
  {
   "cell_type": "code",
   "execution_count": 16,
   "metadata": {},
   "outputs": [
    {
     "name": "stdout",
     "output_type": "stream",
     "text": [
      "[[ 0.07447452  0.07447452  0.07447452 ...,  1.          1.          1.        ]]\n",
      "(7354,)\n",
      "['sympathetic' 'healer' 'aaniye' 'dependable' 'companion' 'listener'\n",
      " 'athletic' 'exterminator' 'psychiatrist' 'pest' 'determined' 'chef'\n",
      " 'courageous' 'stylist' 'psychologist' 'organizer' 'pudunga' 'venaam'\n",
      " 'diwali' 'mornings']\n",
      "['blank' 'tick' '645' 'done' 'too' 'anytime' 'beerage' 'where' 'ok' 'thank'\n",
      " 'yup' 'nite' 'lei' 'anything' 'er' 'thanx' 'okie' 'home' 'havent'\n",
      " '146tf150p']\n"
     ]
    },
    {
     "data": {
      "text/plain": [
       "(aaniye          0.074475\n",
       " stylist         0.074475\n",
       " pudunga         0.074475\n",
       " psychologist    0.074475\n",
       " psychiatrist    0.074475\n",
       " pest            0.074475\n",
       " organizer       0.074475\n",
       " listener        0.074475\n",
       " sympathetic     0.074475\n",
       " healer          0.074475\n",
       " determined      0.074475\n",
       " dependable      0.074475\n",
       " courageous      0.074475\n",
       " companion       0.074475\n",
       " chef            0.074475\n",
       " athletic        0.074475\n",
       " exterminator    0.074475\n",
       " venaam          0.074475\n",
       " diwali          0.091250\n",
       " mornings        0.091250\n",
       " dtype: float64, blank        0.932702\n",
       " tick         0.980166\n",
       " 146tf150p    1.000000\n",
       " too          1.000000\n",
       " thanx        1.000000\n",
       " thank        1.000000\n",
       " okie         1.000000\n",
       " ok           1.000000\n",
       " nite         1.000000\n",
       " lei          1.000000\n",
       " home         1.000000\n",
       " havent       1.000000\n",
       " er           1.000000\n",
       " done         1.000000\n",
       " beerage      1.000000\n",
       " anytime      1.000000\n",
       " anything     1.000000\n",
       " 645          1.000000\n",
       " where        1.000000\n",
       " yup          1.000000\n",
       " dtype: float64)"
      ]
     },
     "execution_count": 16,
     "metadata": {},
     "output_type": "execute_result"
    }
   ],
   "source": [
    "answer_four()"
   ]
  },
  {
   "cell_type": "markdown",
   "metadata": {},
   "source": [
    "### Question 5\n",
    "\n",
    "Fit and transform the training data `X_train` using a Tfidf Vectorizer ignoring terms that have a document frequency strictly lower than **3**.\n",
    "\n",
    "Then fit a multinomial Naive Bayes classifier model with smoothing `alpha=0.1` and compute the area under the curve (AUC) score using the transformed test data.\n",
    "\n",
    "*This function should return the AUC score as a float.*"
   ]
  },
  {
   "cell_type": "code",
   "execution_count": 17,
   "metadata": {
    "collapsed": true
   },
   "outputs": [],
   "source": [
    "def answer_five():\n",
    "    tfidf_vec = TfidfVectorizer(min_df=3)\n",
    "    x_train_vec = tfidf_vec.fit_transform(X_train)\n",
    "    \n",
    "    model = MultinomialNB(alpha=0.1)\n",
    "    model.fit(x_train_vec, y_train)\n",
    "    \n",
    "    predictions = model.predict(tfidf_vec.transform(X_test))\n",
    "    roc_score = roc_auc_score(y_test, predictions)\n",
    "    print('AUC: ', roc_score)    \n",
    "    \n",
    "    return roc_score#Your answer here"
   ]
  },
  {
   "cell_type": "code",
   "execution_count": 18,
   "metadata": {},
   "outputs": [
    {
     "name": "stdout",
     "output_type": "stream",
     "text": [
      "AUC:  0.941624365482\n"
     ]
    },
    {
     "data": {
      "text/plain": [
       "0.94162436548223349"
      ]
     },
     "execution_count": 18,
     "metadata": {},
     "output_type": "execute_result"
    }
   ],
   "source": [
    "answer_five()"
   ]
  },
  {
   "cell_type": "markdown",
   "metadata": {},
   "source": [
    "### Question 6\n",
    "\n",
    "What is the average length of documents (number of characters) for not spam and spam documents?\n",
    "\n",
    "*This function should return a tuple (average length not spam, average length spam).*"
   ]
  },
  {
   "cell_type": "code",
   "execution_count": 19,
   "metadata": {
    "collapsed": true
   },
   "outputs": [],
   "source": [
    "def answer_six():\n",
    "    #print (spam_data['text'].str.len())\n",
    "    spam_chars = sum(np.where(spam_data['target'] == 1, spam_data['text'].str.len(), 0))\n",
    "    non_spam_chars = sum(np.where(spam_data['target'] == 0, spam_data['text'].str.len(), 0))\n",
    "    \n",
    "    spam_list = spam_data['target'].tolist()\n",
    "    spam_count = sum([1 for spam in spam_list if spam==1])\n",
    "    non_spam_count = len(spam_list) - spam_count\n",
    "    \n",
    "    return (non_spam_chars/non_spam_count, spam_chars/spam_count)#Your answer here"
   ]
  },
  {
   "cell_type": "code",
   "execution_count": 20,
   "metadata": {},
   "outputs": [
    {
     "data": {
      "text/plain": [
       "(71.023626943005183, 138.8661311914324)"
      ]
     },
     "execution_count": 20,
     "metadata": {},
     "output_type": "execute_result"
    }
   ],
   "source": [
    "answer_six()"
   ]
  },
  {
   "cell_type": "markdown",
   "metadata": {},
   "source": [
    "<br>\n",
    "<br>\n",
    "The following function has been provided to help you combine new features into the training data:"
   ]
  },
  {
   "cell_type": "code",
   "execution_count": 21,
   "metadata": {
    "collapsed": true
   },
   "outputs": [],
   "source": [
    "def add_feature(X, feature_to_add):\n",
    "    \"\"\"\n",
    "    Returns sparse feature matrix with added feature.\n",
    "    feature_to_add can also be a list of features.\n",
    "    \"\"\"\n",
    "    from scipy.sparse import csr_matrix, hstack\n",
    "    return hstack([X, csr_matrix(feature_to_add).T], 'csr')"
   ]
  },
  {
   "cell_type": "markdown",
   "metadata": {},
   "source": [
    "### Question 7\n",
    "\n",
    "Fit and transform the training data X_train using a Tfidf Vectorizer ignoring terms that have a document frequency strictly lower than **5**.\n",
    "\n",
    "Using this document-term matrix and an additional feature, **the length of document (number of characters)**, fit a Support Vector Classification model with regularization `C=10000`. Then compute the area under the curve (AUC) score using the transformed test data.\n",
    "\n",
    "*This function should return the AUC score as a float.*"
   ]
  },
  {
   "cell_type": "code",
   "execution_count": 22,
   "metadata": {
    "collapsed": true
   },
   "outputs": [],
   "source": [
    "from sklearn.svm import SVC\n",
    "\n",
    "def answer_seven():\n",
    "    tfidf_vec = TfidfVectorizer(min_df=5)\n",
    "    x_train_vec = tfidf_vec.fit_transform(X_train)\n",
    "\n",
    "    new_feature =  (X_train.str.len())    \n",
    "    new_features = add_feature(x_train_vec, new_feature)\n",
    "    \n",
    "    model = SVC(C=10000)\n",
    "    model.fit(new_features, y_train)\n",
    "    \n",
    "    predictions = model.predict(add_feature(tfidf_vec.transform(X_test), X_test.str.len()))\n",
    "    roc_score = roc_auc_score(y_test, predictions)\n",
    "    print('AUC: ', roc_score)        \n",
    "    \n",
    "    return roc_score#Your answer here"
   ]
  },
  {
   "cell_type": "code",
   "execution_count": 23,
   "metadata": {},
   "outputs": [
    {
     "name": "stdout",
     "output_type": "stream",
     "text": [
      "AUC:  0.958136682342\n"
     ]
    },
    {
     "data": {
      "text/plain": [
       "0.95813668234215565"
      ]
     },
     "execution_count": 23,
     "metadata": {},
     "output_type": "execute_result"
    }
   ],
   "source": [
    "answer_seven()"
   ]
  },
  {
   "cell_type": "markdown",
   "metadata": {},
   "source": [
    "### Question 8\n",
    "\n",
    "What is the average number of digits per document for not spam and spam documents?\n",
    "\n",
    "*This function should return a tuple (average # digits not spam, average # digits spam).*"
   ]
  },
  {
   "cell_type": "code",
   "execution_count": 56,
   "metadata": {
    "collapsed": true
   },
   "outputs": [],
   "source": [
    "import re\n",
    "def answer_eight():\n",
    "    spam = [len(list(map(int, re.findall(\"[0-9]\",doc)))) for doc in spam_data['text'][spam_data.target==1]]\n",
    "    non_spam = [len(list(map(int, re.findall(\"[0-9]\",doc)))) for doc in spam_data['text'][spam_data.target==0]]\n",
    "    \n",
    "    return (sum(non_spam)/len(non_spam), sum(spam)/len(spam))"
   ]
  },
  {
   "cell_type": "code",
   "execution_count": 57,
   "metadata": {},
   "outputs": [
    {
     "data": {
      "text/plain": [
       "(0.2992746113989637, 15.759036144578314)"
      ]
     },
     "execution_count": 57,
     "metadata": {},
     "output_type": "execute_result"
    }
   ],
   "source": [
    "answer_eight()"
   ]
  },
  {
   "cell_type": "markdown",
   "metadata": {},
   "source": [
    "### Question 9\n",
    "\n",
    "Fit and transform the training data `X_train` using a Tfidf Vectorizer ignoring terms that have a document frequency strictly lower than **5** and using **word n-grams from n=1 to n=3** (unigrams, bigrams, and trigrams).\n",
    "\n",
    "Using this document-term matrix and the following additional features:\n",
    "* the length of document (number of characters)\n",
    "* **number of digits per document**\n",
    "\n",
    "fit a Logistic Regression model with regularization `C=100`. Then compute the area under the curve (AUC) score using the transformed test data.\n",
    "\n",
    "*This function should return the AUC score as a float.*"
   ]
  },
  {
   "cell_type": "code",
   "execution_count": 74,
   "metadata": {},
   "outputs": [],
   "source": [
    "from sklearn.linear_model import LogisticRegression\n",
    "import re\n",
    "\n",
    "def get_digits(data):\n",
    "    digit_list = list()\n",
    "    for x in data:\n",
    "        digit_list.append(len(re.findall(r\"[0-9]\",x)))\n",
    "    return digit_list\n",
    "\n",
    "\n",
    "def answer_nine():\n",
    "    tfidf_vec = TfidfVectorizer(min_df=5, ngram_range=(1,3))\n",
    "    x_train_vec = tfidf_vec.fit_transform(X_train)\n",
    "\n",
    "    new_feature_1 =  (X_train.str.len())    \n",
    "    new_features = add_feature(x_train_vec, new_feature_1)\n",
    "    \n",
    "    new_feature_2 = get_digits(X_train)\n",
    "    new_features = add_feature(new_features, new_feature_2)\n",
    "    \n",
    "    model = LogisticRegression(C=100)\n",
    "    model.fit(new_features, y_train)\n",
    "    \n",
    "    test_features = add_feature(tfidf_vec.transform(X_test), X_test.str.len())\n",
    "    new_test_feature_2 = get_digits(X_test)\n",
    "    test_features = add_feature(test_features, new_test_feature_2)\n",
    "    \n",
    "    predictions = model.predict(test_features)\n",
    "    roc_score = roc_auc_score(y_test, predictions)\n",
    "    print('AUC: ', roc_score)        \n",
    "    \n",
    "    return roc_score#Your answer here"
   ]
  },
  {
   "cell_type": "code",
   "execution_count": 75,
   "metadata": {},
   "outputs": [
    {
     "name": "stdout",
     "output_type": "stream",
     "text": [
      "AUC:  0.967870906405\n"
     ]
    },
    {
     "data": {
      "text/plain": [
       "0.96787090640544626"
      ]
     },
     "execution_count": 75,
     "metadata": {},
     "output_type": "execute_result"
    }
   ],
   "source": [
    "answer_nine()"
   ]
  },
  {
   "cell_type": "markdown",
   "metadata": {},
   "source": [
    "### Question 10\n",
    "\n",
    "What is the average number of non-word characters (anything other than a letter, digit or underscore) per document for not spam and spam documents?\n",
    "\n",
    "*Hint: Use `\\w` and `\\W` character classes*\n",
    "\n",
    "*This function should return a tuple (average # non-word characters not spam, average # non-word characters spam).*"
   ]
  },
  {
   "cell_type": "code",
   "execution_count": 70,
   "metadata": {
    "collapsed": true
   },
   "outputs": [],
   "source": [
    "def answer_ten():\n",
    "    spam = [len(re.findall(r\"\\W\",doc)) for doc in spam_data['text'][spam_data.target==1]]\n",
    "    non_spam = [len(re.findall(r\"\\W\",doc)) for doc in spam_data['text'][spam_data.target==0]]\n",
    "    \n",
    "    return (sum(non_spam)/len(non_spam), sum(spam)/len(spam))"
   ]
  },
  {
   "cell_type": "code",
   "execution_count": 71,
   "metadata": {},
   "outputs": [
    {
     "data": {
      "text/plain": [
       "(17.29181347150259, 29.041499330655956)"
      ]
     },
     "execution_count": 71,
     "metadata": {},
     "output_type": "execute_result"
    }
   ],
   "source": [
    "answer_ten()"
   ]
  },
  {
   "cell_type": "markdown",
   "metadata": {},
   "source": [
    "### Question 11\n",
    "\n",
    "Fit and transform the training data X_train using a Count Vectorizer ignoring terms that have a document frequency strictly lower than **5** and using **character n-grams from n=2 to n=5.**\n",
    "\n",
    "To tell Count Vectorizer to use character n-grams pass in `analyzer='char_wb'` which creates character n-grams only from text inside word boundaries. This should make the model more robust to spelling mistakes.\n",
    "\n",
    "Using this document-term matrix and the following additional features:\n",
    "* the length of document (number of characters)\n",
    "* number of digits per document\n",
    "* **number of non-word characters (anything other than a letter, digit or underscore.)**\n",
    "\n",
    "fit a Logistic Regression model with regularization C=100. Then compute the area under the curve (AUC) score using the transformed test data.\n",
    "\n",
    "Also **find the 10 smallest and 10 largest coefficients from the model** and return them along with the AUC score in a tuple.\n",
    "\n",
    "The list of 10 smallest coefficients should be sorted smallest first, the list of 10 largest coefficients should be sorted largest first.\n",
    "\n",
    "The three features that were added to the document term matrix should have the following names should they appear in the list of coefficients:\n",
    "['length_of_doc', 'digit_count', 'non_word_char_count']\n",
    "\n",
    "*This function should return a tuple `(AUC score as a float, smallest coefs list, largest coefs list)`.*"
   ]
  },
  {
   "cell_type": "code",
   "execution_count": 100,
   "metadata": {
    "collapsed": true
   },
   "outputs": [],
   "source": [
    "def answer_eleven():\n",
    "    count_vec = CountVectorizer(min_df=5, ngram_range=(2,5),analyzer='char_wb')\n",
    "    x_vec = count_vec.fit_transform(X_train)\n",
    "    train_feature_1 = X_train.str.len()\n",
    "    train_feature_2 = [len(re.findall(r\"[0-9]\",x)) for x in X_train]\n",
    "    train_feature_3 = [len(re.findall(r\"\\W\",x)) for x in X_train]\n",
    "    \n",
    "    X_train_features = add_feature(x_vec, train_feature_1)\n",
    "    X_train_features = add_feature(X_train_features, train_feature_2)\n",
    "    X_train_features = add_feature(X_train_features, train_feature_3)\n",
    "    \n",
    "    test_feature_1 = X_test.str.len()\n",
    "    test_feature_2 = [len(re.findall(r\"[0-9]\",x)) for x in X_test]\n",
    "    test_feature_3 = [len(re.findall(r\"\\W\",x)) for x in X_test]\n",
    "\n",
    "    \n",
    "    X_test_features = add_feature(count_vec.transform(X_test), test_feature_1)\n",
    "    X_test_features = add_feature(X_test_features, test_feature_2)\n",
    "    X_test_features = add_feature(X_test_features, test_feature_3)\n",
    "    \n",
    "    model = LogisticRegression(C=100)\n",
    "    model.fit(X_train_features, y_train)\n",
    "    \n",
    "    predictions = model.predict(X_test_features)\n",
    "    roc_score = roc_auc_score(y_test, predictions)\n",
    "    print('AUC: ', roc_score)        \n",
    "        \n",
    "    feature_names = np.array(count_vec.get_feature_names())\n",
    "    print (feature_names)\n",
    "    feature_names = np.concatenate((feature_names, np.array(['length_of_doc', 'digit_count', 'non_word_char_count'])))\n",
    "    \n",
    "    coefficient_indicies = model.coef_[0].argsort()\n",
    "    print (coefficient_indicies)\n",
    "    small_coefficient = list(feature_names[coefficient_indicies[:10]])\n",
    "    large_coefficient = list(reversed(list(feature_names[coefficient_indicies[-10:]])))\n",
    "    return roc_score, small_coefficient, large_coefficient"
   ]
  },
  {
   "cell_type": "code",
   "execution_count": 101,
   "metadata": {},
   "outputs": [
    {
     "name": "stdout",
     "output_type": "stream",
     "text": [
      "AUC:  0.978859311071\n",
      "[' !' ' ! ' ' !!' ..., 'û÷m ' 'û÷t' 'û÷t ']\n",
      "[ 3218  3227  4520 ...,  8804 10911 16315]\n"
     ]
    },
    {
     "data": {
      "text/plain": [
       "(0.97885931107074342,\n",
       " ['. ', '..', '? ', ' i', ' y', ' go', ':)', ' h', 'go', ' m'],\n",
       " ['digit_count', 'ne', 'ia', 'co', 'xt', ' ch', 'mob', ' x', 'ww', 'ar'])"
      ]
     },
     "execution_count": 101,
     "metadata": {},
     "output_type": "execute_result"
    }
   ],
   "source": [
    "answer_eleven()"
   ]
  },
  {
   "cell_type": "code",
   "execution_count": null,
   "metadata": {
    "collapsed": true
   },
   "outputs": [],
   "source": []
  }
 ],
 "metadata": {
  "coursera": {
   "course_slug": "python-text-mining",
   "graded_item_id": "Pn19K",
   "launcher_item_id": "y1juS",
   "part_id": "ctlgo"
  },
  "kernelspec": {
   "display_name": "Python 3",
   "language": "python",
   "name": "python3"
  },
  "language_info": {
   "codemirror_mode": {
    "name": "ipython",
    "version": 3
   },
   "file_extension": ".py",
   "mimetype": "text/x-python",
   "name": "python",
   "nbconvert_exporter": "python",
   "pygments_lexer": "ipython3",
   "version": "3.6.0"
  }
 },
 "nbformat": 4,
 "nbformat_minor": 2
}
